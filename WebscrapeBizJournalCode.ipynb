{
 "cells": [
  {
   "cell_type": "code",
   "execution_count": 79,
   "metadata": {},
   "outputs": [],
   "source": [
    "from splinter import Browser\n",
    "from bs4 import BeautifulSoup\n",
    "import re\n",
    "import time\n",
    "import requests\n",
    "from selenium import webdriver\n",
    "import time as t\n",
    "from pprint import pprint"
   ]
  },
  {
   "cell_type": "code",
   "execution_count": 80,
   "metadata": {},
   "outputs": [
    {
     "name": "stdout",
     "output_type": "stream",
     "text": [
      "/usr/local/bin/chromedriver\r\n"
     ]
    }
   ],
   "source": [
    "!which chromedriver"
   ]
  },
  {
   "cell_type": "code",
   "execution_count": 102,
   "metadata": {},
   "outputs": [],
   "source": [
    "executable_path = {'executable_path': '/usr/local/bin/chromedriver'}\n",
    "browser = Browser('chrome', **executable_path, headless=False)\n",
    "url = 'https://www.bizjournals.com/houston/potm?l=&time=&type=&ind=86'\n",
    "browser.visit(url)"
   ]
  },
  {
   "cell_type": "code",
   "execution_count": 103,
   "metadata": {
    "scrolled": false
   },
   "outputs": [],
   "source": [
    "html = browser.html\n",
    "soup = BeautifulSoup(html, 'html.parser')"
   ]
  },
  {
   "cell_type": "code",
   "execution_count": 129,
   "metadata": {},
   "outputs": [
    {
     "name": "stdout",
     "output_type": "stream",
     "text": [
      "Michael_Hamilton\n",
      "Jonathan_Newton\n",
      "John_Farrell\n",
      "Connie_Pfeiffer\n",
      "Kathlyn_Hufstetler\n",
      "Sammy_Ford_IV\n",
      "Colleen_Migl\n",
      "Brooks_Tueting\n",
      "Edward_Ed_L_Ripley\n",
      "Stephanie_McGraw\n",
      "Ben_Walther\n",
      "Michael_L_Telford\n",
      "Elizabeth_Liz_Webb\n",
      "Caroline_C_Pace\n",
      "Keith_A_Taylor\n",
      "Gabriela_Gabby_M_Barake\n",
      "Stephen_Jacobson\n",
      "Justo_Mendez\n",
      "Samuel_Louis\n",
      "S_Priya_Coffey\n"
     ]
    }
   ],
   "source": [
    "links = []\n",
    "Contact_dict = {}\n",
    "for link in soup.find_all(\"a\", class_=\"item\", href=True):\n",
    "    links.append(link.get('href'))\n",
    "\n",
    "\n",
    "for i in links:\n",
    "    if '/houston/potmsearch/detail/submission' in i:\n",
    "        newI = i.split(\"?\")\n",
    "        slicefront = (newI[0])\n",
    "        name = slicefront[46:]\n",
    "        final_name = name.replace('_', \" \")\n",
    "        print(fin)\n",
    "    else:\n",
    "        pass"
   ]
  },
  {
   "cell_type": "code",
   "execution_count": 97,
   "metadata": {},
   "outputs": [
    {
     "data": {
      "text/plain": [
       "{'HBJ_link_/houston/potmsearch/detail/submission/6486774/Jonathan_Newton?time=most_recent&ind=86&type=all&id=&ro=1': '/houston/potmsearch/detail/submission/6486774/Jonathan_Newton?time=most_recent&ind=86&type=all&id=&ro=1'}"
      ]
     },
     "execution_count": 97,
     "metadata": {},
     "output_type": "execute_result"
    }
   ],
   "source": [
    "Contact_dict"
   ]
  },
  {
   "cell_type": "code",
   "execution_count": 86,
   "metadata": {},
   "outputs": [],
   "source": [
    "browser.visit(\"https://www.bizjournals.com/houston/potmsearch/detail/submission/6487947/Michael_Hamilton?l=&time=&ind=86&type=&ro=0\")\n",
    "html = browser.html\n",
    "soup = BeautifulSoup(html, 'html.parser')"
   ]
  },
  {
   "cell_type": "code",
   "execution_count": 92,
   "metadata": {},
   "outputs": [
    {
     "name": "stdout",
     "output_type": "stream",
     "text": [
      "Partner at King & Spalding LLP\n",
      "Michael Hamilton represents public and private companies in a broad range of corporate and transactional matters, including capital markets transactions, U.S. Securities and Exchange Commission reporting obligations, governance matters and mergers & acquisitions. Michael also represents borrowers and lenders in connection with domestic and cross border commercial loan, asset based and subordinated loan facilities.\n"
     ]
    }
   ],
   "source": [
    "info_list = soup.find_all('p', class_ = 'cXenseParse')\n",
    "for i in info_list:\n",
    "    print(i.text)"
   ]
  },
  {
   "cell_type": "code",
   "execution_count": null,
   "metadata": {},
   "outputs": [],
   "source": []
  }
 ],
 "metadata": {
  "kernelspec": {
   "display_name": "webscrape",
   "language": "python",
   "name": "webscrape"
  },
  "language_info": {
   "codemirror_mode": {
    "name": "ipython",
    "version": 3
   },
   "file_extension": ".py",
   "mimetype": "text/x-python",
   "name": "python",
   "nbconvert_exporter": "python",
   "pygments_lexer": "ipython3",
   "version": "3.6.10"
  }
 },
 "nbformat": 4,
 "nbformat_minor": 4
}
