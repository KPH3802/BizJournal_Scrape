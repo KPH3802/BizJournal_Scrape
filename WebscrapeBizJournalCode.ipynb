{
 "cells": [
  {
   "cell_type": "code",
   "execution_count": 3,
   "metadata": {},
   "outputs": [],
   "source": [
    "from splinter import Browser\n",
    "from bs4 import BeautifulSoup\n",
    "import re\n",
    "import time\n",
    "import requests\n",
    "from selenium import webdriver\n",
    "import time as t\n",
    "from pprint import pprint\n",
    "import pandas as pd\n",
    "from pathlib import Path\n",
    "# import urllib3\n",
    "# from urllib3 import HTTPError"
   ]
  },
  {
   "cell_type": "code",
   "execution_count": 4,
   "metadata": {},
   "outputs": [
    {
     "name": "stdout",
     "output_type": "stream",
     "text": [
      "/usr/local/bin/chromedriver\r\n"
     ]
    }
   ],
   "source": [
    "!which chromedriver"
   ]
  },
  {
   "cell_type": "code",
   "execution_count": 5,
   "metadata": {},
   "outputs": [],
   "source": [
    "executable_path = {'executable_path': '/usr/local/bin/chromedriver'}\n",
    "browser = Browser('chrome', **executable_path, headless=False)\n",
    "try: \n",
    "    url = 'https://www.bizjournals.com/houston/potm?l=&time=&type=&ind=86'\n",
    "    browser.visit(url)\n",
    "except:\n",
    "    print(\"Error\")"
   ]
  },
  {
   "cell_type": "code",
   "execution_count": 7,
   "metadata": {
    "scrolled": false
   },
   "outputs": [],
   "source": [
    "html = browser.html\n",
    "soup = BeautifulSoup(html, 'html.parser')"
   ]
  },
  {
   "cell_type": "code",
   "execution_count": 35,
   "metadata": {},
   "outputs": [],
   "source": [
    "# if 'Next' in browser.page_source:\n",
    "        \n",
    "#     else:\n",
    "#         print(\"No more pages!\")"
   ]
  },
  {
   "cell_type": "code",
   "execution_count": 8,
   "metadata": {},
   "outputs": [
    {
     "name": "stdout",
     "output_type": "stream",
     "text": [
      "[{'Name': 'Charles M Rosson', 'Link': 'https://www.bizjournals.com//houston/potmsearch/detail/submission/6488386/Charles_M_Rosson?l=&time=&ind=86&type=&ro=0'}, {'Name': 'Michael Hamilton', 'Link': 'https://www.bizjournals.com//houston/potmsearch/detail/submission/6487947/Michael_Hamilton?l=&time=&ind=86&type=&ro=1'}, {'Name': 'Jonathan Newton', 'Link': 'https://www.bizjournals.com//houston/potmsearch/detail/submission/6486774/Jonathan_Newton?l=&time=&ind=86&type=&ro=2'}, {'Name': 'John Farrell', 'Link': 'https://www.bizjournals.com//houston/potmsearch/detail/submission/6485908/John_Farrell?l=&time=&ind=86&type=&ro=3'}, {'Name': 'Connie Pfeiffer', 'Link': 'https://www.bizjournals.com//houston/potmsearch/detail/submission/6485383/Connie_Pfeiffer?l=&time=&ind=86&type=&ro=4'}, {'Name': 'Kathlyn Hufstetler', 'Link': 'https://www.bizjournals.com//houston/potmsearch/detail/submission/6484831/Kathlyn_Hufstetler?l=&time=&ind=86&type=&ro=5'}, {'Name': 'Sammy Ford IV', 'Link': 'https://www.bizjournals.com//houston/potmsearch/detail/submission/6484791/Sammy_Ford_IV?l=&time=&ind=86&type=&ro=6'}, {'Name': 'Colleen Migl', 'Link': 'https://www.bizjournals.com//houston/potmsearch/detail/submission/6483205/Colleen_Migl?l=&time=&ind=86&type=&ro=7'}, {'Name': 'Brooks Tueting', 'Link': 'https://www.bizjournals.com//houston/potmsearch/detail/submission/6482879/Brooks_Tueting?l=&time=&ind=86&type=&ro=8'}, {'Name': 'Edward Ed L Ripley', 'Link': 'https://www.bizjournals.com//houston/potmsearch/detail/submission/6482828/Edward_Ed_L_Ripley?l=&time=&ind=86&type=&ro=9'}, {'Name': 'Stephanie McGraw', 'Link': 'https://www.bizjournals.com//houston/potmsearch/detail/submission/6482625/Stephanie_McGraw?l=&time=&ind=86&type=&ro=10'}, {'Name': 'Ben Walther', 'Link': 'https://www.bizjournals.com//houston/potmsearch/detail/submission/6482630/Ben_Walther?l=&time=&ind=86&type=&ro=11'}, {'Name': 'Michael L Telford', 'Link': 'https://www.bizjournals.com//houston/potmsearch/detail/submission/6482352/Michael_L_Telford?l=&time=&ind=86&type=&ro=12'}, {'Name': 'Elizabeth Liz Webb', 'Link': 'https://www.bizjournals.com//houston/potmsearch/detail/submission/6482266/Elizabeth_Liz_Webb?l=&time=&ind=86&type=&ro=13'}, {'Name': 'Caroline C Pace', 'Link': 'https://www.bizjournals.com//houston/potmsearch/detail/submission/6482268/Caroline_C_Pace?l=&time=&ind=86&type=&ro=14'}, {'Name': 'Keith A Taylor', 'Link': 'https://www.bizjournals.com//houston/potmsearch/detail/submission/6482275/Keith_A_Taylor?l=&time=&ind=86&type=&ro=15'}, {'Name': 'Gabriela Gabby M Barake', 'Link': 'https://www.bizjournals.com//houston/potmsearch/detail/submission/6482271/Gabriela_Gabby_M_Barake?l=&time=&ind=86&type=&ro=16'}, {'Name': 'Stephen Jacobson', 'Link': 'https://www.bizjournals.com//houston/potmsearch/detail/submission/6482188/Stephen_Jacobson?l=&time=&ind=86&type=&ro=17'}, {'Name': 'Justo Mendez', 'Link': 'https://www.bizjournals.com//houston/potmsearch/detail/submission/6481763/Justo_Mendez?l=&time=&ind=86&type=&ro=18'}, {'Name': 'Samuel Louis', 'Link': 'https://www.bizjournals.com//houston/potmsearch/detail/submission/6481762/Samuel_Louis?l=&time=&ind=86&type=&ro=19'}]\n"
     ]
    }
   ],
   "source": [
    "links = []\n",
    "#Get all the links to each contact\n",
    "for link in soup.find_all(\"a\", class_=\"item\", href=True):\n",
    "    links.append(link.get('href'))\n",
    "#Get Next button\n",
    "for link in soup.find_all(\"a\", class_=\"btn btn--primary pull-right\", href=True):\n",
    "    button = link.get('href')\n",
    "\n",
    "\n",
    "dict_list =[]\n",
    "for i in links:\n",
    "    if '/houston/potmsearch/detail/submission' in i:\n",
    "        d = {}\n",
    "        link = \"https://www.bizjournals.com/\" + i\n",
    "#         print(link)\n",
    "        newI = i.split(\"?\")\n",
    "        slicefront = (newI[0])\n",
    "        name = slicefront[46:]\n",
    "        final_name = name.replace('_', \" \")\n",
    "        d[\"Name\"] = final_name\n",
    "        d[\"Link\"] = link\n",
    "        dict_list.append(d)\n",
    "    else:\n",
    "        pass\n",
    "browser.visit(button)  \n",
    "   \n",
    "print(dict_list)"
   ]
  },
  {
   "cell_type": "code",
   "execution_count": 59,
   "metadata": {},
   "outputs": [],
   "source": [
    "df = pd.DataFrame(dict_list)\n",
    "df.to_csv(\"test.csv\", index=True)"
   ]
  },
  {
   "cell_type": "code",
   "execution_count": 19,
   "metadata": {},
   "outputs": [
    {
     "data": {
      "text/plain": [
       "'https://www.bizjournals.com/houston/potm?l=&time=&ind=86&type=&pn=2'"
      ]
     },
     "execution_count": 19,
     "metadata": {},
     "output_type": "execute_result"
    }
   ],
   "source": [
    "for link in soup.find_all(\"a\", class_=\"btn btn--primary pull-right\", href=True):\n",
    "    button = link.get('href')\n",
    "button"
   ]
  },
  {
   "cell_type": "code",
   "execution_count": 9,
   "metadata": {},
   "outputs": [
    {
     "name": "stdout",
     "output_type": "stream",
     "text": [
      "[{'Name': 'Charles M Rosson', 'Link': 'https://www.bizjournals.com//houston/potmsearch/detail/submission/6488386/Charles_M_Rosson?l=&time=&ind=86&type=&ro=0', 'Title': 'Partner at Gibbs & Bruns LLP', 'Blurb': 'Charles Rosson devotes his practice to complex commercial litigation disputes, representing both plaintiffs and defendants in state and federal court and in domestic and international arbitrations.  Charles’ experience includes antitrust, breach of contract, transnational law, and energy matters.  \\n\\nCharles joined Gibbs & Bruns in 2017 after beginning his litigation career with Vinson & Elkins, LLP in Houston.  Charles was a judicial intern to the Honorable Jennifer Coffman, Chief Judge of the U'}, {'Name': 'Michael Hamilton', 'Link': 'https://www.bizjournals.com//houston/potmsearch/detail/submission/6487947/Michael_Hamilton?l=&time=&ind=86&type=&ro=1', 'Title': 'Partner at King & Spalding LLP', 'Blurb': 'Michael Hamilton represents public and private companies in a broad range of corporate and transactional matters, including capital markets transactions, U.S. Securities and Exchange Commission reporting obligations, governance matters and mergers & acquisitions. Michael also represents borrowers and lenders in connection with domestic and cross border commercial loan, asset based and subordinated loan facilities.'}, {'Name': 'Jonathan Newton', 'Link': 'https://www.bizjournals.com//houston/potmsearch/detail/submission/6486774/Jonathan_Newton?l=&time=&ind=86&type=&ro=2', 'Title': 'Partner at King & Spalding LLP', 'Blurb': 'King & Spalding has added Jonathan B. Newton, a corporate and securities partner in Houston. Newton’s practice focuses on energy M&A and capital markets transactions. He has extensive experience in SEC reporting and corporate governance advice; convertible and straight equity and debt offerings; c-suite / board of directors advice, internal corporate restructurings; venture capital financings; and joint ventures; with an emphasis on domestic and complex cross-border transactions.'}, {'Name': 'John Farrell', 'Link': 'https://www.bizjournals.com//houston/potmsearch/detail/submission/6485908/John_Farrell?l=&time=&ind=86&type=&ro=3', 'Title': 'Partner at Arcadi Jackson LLP', 'Blurb': 'John Farrell has more than 13 years of legal experience and is Board Certified in Labor and Employment Law. He counsels and advises employers in a full range of legal and business issues including employee discipline and termination, pay structures, employment contracts, internal investigations and compliance with labor and employment laws.'}, {'Name': 'Connie Pfeiffer', 'Link': 'https://www.bizjournals.com//houston/potmsearch/detail/submission/6485383/Connie_Pfeiffer?l=&time=&ind=86&type=&ro=4', 'Title': 'Partner at Yetter Coleman LLP', 'Blurb': \"Connie Pfeiffer has joined Yetter Coleman as a partner and leader of the firm's appellate team. Recognized as one of the top appellate lawyers in Texas by Chambers USA, Best Lawyers in America, and Texas Super Lawyers, Connie is a board-certified appellate specialist who focuses her practice on representing plaintiffs and defendants in business disputes, legal malpractice and fiduciary claims, personal injury, statutory, and procedural issues.\"}, {'Name': 'Kathlyn Hufstetler', 'Link': 'https://www.bizjournals.com//houston/potmsearch/detail/submission/6484831/Kathlyn_Hufstetler?l=&time=&ind=86&type=&ro=5', 'Title': 'Senior Associate Attorney at Patel | Gaines', 'Blurb': 'Not only does Kathlyn litigate commercial property taxes statewide, but she also spearheads the growth of Patel Gaines’ Houston office. Her attention to detail and ability to manage high volume property tax litigation matters has prepared her to take on a number of different commercial property tax cases. Daily Kathlyn aims to break the barriers of typical law firms by striving for creativity with every case she leads. Learn more about Kathlyn at www.linkedin.com/in/kathlyn-hufstetler-03bb32bb/.'}, {'Name': 'Sammy Ford IV', 'Link': 'https://www.bizjournals.com//houston/potmsearch/detail/submission/6484791/Sammy_Ford_IV?l=&time=&ind=86&type=&ro=6', 'Title': 'Partner at AZA Law Firm', 'Blurb': 'A highly acclaimed lawyer, Mr. Ford has tried more than two dozen cases before judges, juries and arbitrators around the United States. He has successfully represented businesses and individuals, both plaintiffs and defendants, in a wide range of civil litigation including in cases worth more than $40 million. Mr. Ford is board certified in Personal Injury Trial Law by the Texas Board of Legal Specialization. He was named among The National Trial Lawyers Association’s “Top 40 under 40.”'}, {'Name': 'Colleen Migl', 'Link': 'https://www.bizjournals.com//houston/potmsearch/detail/submission/6483205/Colleen_Migl?l=&time=&ind=86&type=&ro=7', 'Title': 'Shareholder at Kilmer Crosby & Quadros', 'Blurb': 'Colleen Migl, who will be working out of the firm’s Houston office, will be leading the corporate department. She focuses her practice on mergers and acquisitions, private equity, financing transactions, taxation matters, and other general corporate matters.'}, {'Name': 'Brooks Tueting', 'Link': 'https://www.bizjournals.com//houston/potmsearch/detail/submission/6482879/Brooks_Tueting?l=&time=&ind=86&type=&ro=8', 'Title': 'partner at Patterson + Sheridan LLP', 'Blurb': 'Intellectual property and complex litigation law firm Patterson + Sheridan LLP, has promoted Brooks Tueting to partner in the firm’s Houston office. Tueting focuses on providing patent preparation and prosecution services, litigation support, and portfolio analysis for clients in industries ranging from semiconductors to software and energy to agriculture. Tueting joined the firm as an associate immediately following graduation from the University of Wyoming College of Law.  Patterson + Sheridan is an intellectual property and technology law firm with 80 attorneys located in seven offices in Texas, California, North Carolina, and New Jersey. The firm offers a broad range of services, including preparing and prosecuting patent applications; complex litigation, including IP, business, and criminal litigation; post-grant proceedings and actions; and providing counseling and strategic insight to clients in a wide variety of industries. The firm celebrated its 20th anniversary in 2016.'}, {'Name': 'Edward Ed L Ripley', 'Link': 'https://www.bizjournals.com//houston/potmsearch/detail/submission/6482828/Edward_Ed_L_Ripley?l=&time=&ind=86&type=&ro=9', 'Title': 'Shareholder at Andrews Myers', 'Blurb': 'Edward (Ed) L. Ripley, joins Andrews Myers as a shareholder in its restructuring and bankruptcy & creditors’ rights team.  Ed has over 30 years restructuring experience including some of the largest bankruptcy cases in Texas and the US. He joins the firm after 13 years at King & Spalding.  Ed has extensive experience in energy, real estate, construction, hospitality and retail, representing debtors, creditors, contract-counterparties and entities looking at distressed acquisition.'}, {'Name': 'Stephanie McGraw', 'Link': 'https://www.bizjournals.com//houston/potmsearch/detail/submission/6482625/Stephanie_McGraw?l=&time=&ind=86&type=&ro=10', 'Title': 'Partner at Shook, Hardy & Bacon L.L.P.', 'Blurb': 'Shook, Hardy & Bacon is pleased to announce that Stephanie McGraw has been promoted to partner effective March 1, 2020. Stephanie focuses her practice on complex product liability, commercial, and business litigation. She represents major U.S. and international corporations and individual clients in all phases of the litigation process, and has often taken the lead in the management of complex, national cases.  She received her J.D. cum laude, Suffolk University Law School.'}, {'Name': 'Ben Walther', 'Link': 'https://www.bizjournals.com//houston/potmsearch/detail/submission/6482630/Ben_Walther?l=&time=&ind=86&type=&ro=11', 'Title': 'Partner at Shook, Hardy & Bacon L.L.P.', 'Blurb': 'Shook, Hardy & Bacon has promoted Ben Walther to partner effective March 1, 2020. Ben advocates for clients in business litigation and product liability matters. He focuses on pharmaceutical, medical device, automotive, energy and construction industries. He earned his law degree, summa cum laude, University of Houston. Previously, he earned the Mentor of the Year Award (Greater Houston area), Big Brothers Big Sisters.'}, {'Name': 'Michael L Telford', 'Link': 'https://www.bizjournals.com//houston/potmsearch/detail/submission/6482352/Michael_L_Telford?l=&time=&ind=86&type=&ro=12', 'Title': 'Associate at Nathan Sommers Jacobs A Professional Corporation', 'Blurb': 'Nathan Sommers Jacobs welcomes Michael L. Telford.  At the firm, Michael focuses on general corporate work, business organizations, lender-side finance work, and real estate transactions.  Michael’s tax background enables him to work with business owners and decision makers to maximize value by minimizing the tax impact of potential transactions while providing general representation in each underlying matter with a keen attention to detail.'}, {'Name': 'Elizabeth Liz Webb', 'Link': 'https://www.bizjournals.com//houston/potmsearch/detail/submission/6482266/Elizabeth_Liz_Webb?l=&time=&ind=86&type=&ro=13', 'Title': 'Of Counsel at Crain Caton & James PC', 'Blurb': 'Liz practices environmental (EHS) law and has broad experience, including a variety of Superfund matters, both at the administrative level and in cost recovery litigation, both at the state and federal levels.  Liz also advises clients on regulatory compliance, including numerous audits, and has extensive experience in performing various EHS due diligence activities related to anticipated mergers/acquisitions.  Liz also oversees various remediation projects at both the state and federal levels.'}, {'Name': 'Caroline C Pace', 'Link': 'https://www.bizjournals.com//houston/potmsearch/detail/submission/6482268/Caroline_C_Pace?l=&time=&ind=86&type=&ro=14', 'Title': 'Senior Associate at Crain Caton & James PC', 'Blurb': 'Caroline focuses her practice on corporate and business transactional matters, representing buyers and sellers of closely-held and mid-cap companies in a wide variety of industries.  She concentrates on deal flow and getting the deal closed.  In addition to her M&A portfolio, she closes domestic and international commercial transactions, including master service agreements, vendor and supply agreements, fabrication contracts, licenses, financing documents, and revenue-sharing agreements.'}, {'Name': 'Keith A Taylor', 'Link': 'https://www.bizjournals.com//houston/potmsearch/detail/submission/6482275/Keith_A_Taylor?l=&time=&ind=86&type=&ro=15', 'Title': 'Associate at Crain Caton & James PC', 'Blurb': 'Keith gives a voice to clients involved in fiduciary litigation.  He has experience in managing all aspects of the probate administration process from admitting a will to probate, to determining heirs, inventorying estate assets, handling claims, distributing estate assets, and closing the estate.  Keith also has estate planning experience, which includes drafting wills, powers of attorneys, and trusts, and he advises clients on best practices to minimize risk.'}, {'Name': 'Gabriela Gabby M Barake', 'Link': 'https://www.bizjournals.com//houston/potmsearch/detail/submission/6482271/Gabriela_Gabby_M_Barake?l=&time=&ind=86&type=&ro=16', 'Title': 'Associate at Crain Caton & James PC', 'Blurb': 'Gabriela (Gabby) advocates for fiduciaries and beneficiaries who bring and defend claims in the probate, trust and guardianship arena.  She works closely with individuals, families, and businesses to protect their interests. Additionally, Gabby consults on employment law issues and litigates labor and employment disputes for companies of all sizes.  Whether clients prefer to communicate in Spanish or English, Gabby’s multi-cultural background enables her to translate their needs into results.'}, {'Name': 'Stephen Jacobson', 'Link': 'https://www.bizjournals.com//houston/potmsearch/detail/submission/6482188/Stephen_Jacobson?l=&time=&ind=86&type=&ro=17', 'Title': 'Partner at Kirkland & Ellis LP', 'Blurb': 'Stephen Jacobson has joined Kirkland & Ellis as a partner in Houston. His practice focuses on executive compensation and employee benefit matters. He advises public and private companies, and private equity firms and their portfolio companies on a wide range of employment, compensation and benefits matters in business transactions. Known for providing practical advice, he also represents management teams and executives in negotiating employment, separation and incentive agreements.'}, {'Name': 'Justo Mendez', 'Link': 'https://www.bizjournals.com//houston/potmsearch/detail/submission/6481763/Justo_Mendez?l=&time=&ind=86&type=&ro=18', 'Title': 'Partner at Holland & Knight LLP', 'Blurb': \"Justo Mendez advises healthcare providers on regulatory compliance, enforcement and transactional matters. This includes federal white collar criminal defense and navigating government investigations. Mr. Mendez is a former agent for the Office of the Inspector General in U.S. Department of Health and Human Services, and a federal prosecutor for the U.S. attorney's office in Houston. Prior to joining Holland & Knight, he practiced law at Clark Hill.\"}, {'Name': 'Samuel Louis', 'Link': 'https://www.bizjournals.com//houston/potmsearch/detail/submission/6481762/Samuel_Louis?l=&time=&ind=86&type=&ro=19', 'Title': 'Partner at Holland & Knight LLP', 'Blurb': 'Samuel Louis provides counsel on healthcare regulatory issues, white collar criminal defense, corporate internal investigations, the Foreign Corrupt Practices Act and compliance with federal regulations that govern food and drug distribution. Mr. Louis spent 21 years as an assistant U.S. attorney for the U.S. Department of Justice in the Southern District of Texas. Prior to joining Holland & Knight, he practiced law at Clark Hill.'}]\n"
     ]
    }
   ],
   "source": [
    "new_dict = []\n",
    "for i in dict_list:\n",
    "    try:\n",
    "        browser.visit(i[\"Link\"])\n",
    "        t.sleep(1)\n",
    "        html = browser.html\n",
    "        soup = BeautifulSoup(html, 'html.parser')\n",
    "        info_list = soup.find_all('p', class_ = 'cXenseParse')\n",
    "#         print(info_list[0].text)\n",
    "#         print(info_list[1].text)\n",
    "#         print(\"----------\")\n",
    "        i[\"Title\"] = info_list[0].text\n",
    "        i[\"Blurb\"] = info_list[1].text\n",
    "        new_dict.append(i)\n",
    "#         print(new_dict)\n",
    "    except:\n",
    "        print(\"Error!\")\n",
    "print(new_dict)"
   ]
  },
  {
   "cell_type": "code",
   "execution_count": null,
   "metadata": {},
   "outputs": [],
   "source": []
  },
  {
   "cell_type": "code",
   "execution_count": 13,
   "metadata": {},
   "outputs": [],
   "source": [
    "import csv\n",
    "file_to_output = Path(\"Data_Scraped/Contacts.csv\")\n",
    "csv_columns = ['Name','Link','Title', 'Blurb']\n",
    "\n",
    "# csv_file = \"Contacts.csv\"\n",
    "try:\n",
    "    with open(file_to_output, 'w') as csvfile:\n",
    "        writer = csv.DictWriter(csvfile, fieldnames=csv_columns)\n",
    "        writer.writeheader()\n",
    "        for data in new_dict:\n",
    "            writer.writerow(data)\n",
    "except IOError:\n",
    "    print(\"I/O error\")\n"
   ]
  },
  {
   "cell_type": "code",
   "execution_count": 16,
   "metadata": {},
   "outputs": [],
   "source": [
    "file_to_output2 = Path(\"Data_Scraped/Contacts2.csv\")\n",
    "try:\n",
    "    with open(file_to_output2, 'w', encoding='utf8', newline='') as csvfile:\n",
    "        writer = csv.DictWriter(csvfile, fieldnames=new_dict[0].keys())\n",
    "        writer.writeheader()\n",
    "        writer.writerows(new_dict)\n",
    "except IOError:\n",
    "    print(\"I/O error\")"
   ]
  },
  {
   "cell_type": "code",
   "execution_count": 6,
   "metadata": {},
   "outputs": [],
   "source": [
    "# for i in dict_list:\n",
    "#     try:\n",
    "#         browser.visit(i[\"Link\"])\n",
    "#         t.sleep(5)\n",
    "#         html = browser.html\n",
    "#         soup = BeautifulSoup(html, 'html.parser')\n",
    "#         info_list = soup.find_all('p', class_ = 'cXenseParse')\n",
    "#     except:\n",
    "#         print(\"Error!\")\n",
    "    \n",
    "# #     print(type(i[\"Link\"]))\n",
    "    "
   ]
  },
  {
   "cell_type": "code",
   "execution_count": 6,
   "metadata": {},
   "outputs": [
    {
     "name": "stdout",
     "output_type": "stream",
     "text": [
      "Senior Associate Attorney at Patel | Gaines\n",
      "Not only does Kathlyn litigate commercial property taxes statewide, but she also spearheads the growth of Patel Gaines’ Houston office. Her attention to detail and ability to manage high volume property tax litigation matters has prepared her to take on a number of different commercial property tax cases. Daily Kathlyn aims to break the barriers of typical law firms by striving for creativity with every case she leads. Learn more about Kathlyn at www.linkedin.com/in/kathlyn-hufstetler-03bb32bb/.\n"
     ]
    }
   ],
   "source": [
    "# try:\n",
    "#     browser.visit(\"https://www.bizjournals.com//houston/potmsearch/detail/submission/6484831/Kathlyn_Hufstetler?l=&time=&ind=86&type=&ro=4\")\n",
    "#     html = browser.html\n",
    "#     soup = BeautifulSoup(html, 'html.parser')\n",
    "    \n",
    "    \n",
    "#     info_list = soup.find_all('p', class_ = 'cXenseParse')\n",
    "#     for i in info_list:\n",
    "#         print(i.text)\n",
    "# except:\n",
    "#     print(\"Probably Max\")"
   ]
  },
  {
   "cell_type": "code",
   "execution_count": 7,
   "metadata": {},
   "outputs": [],
   "source": [
    "# browser.visit(\"https://www.bizjournals.com/houston/potmsearch/detail/submission/6487947/Michael_Hamilton?l=&time=&ind=86&type=&ro=0\")\n",
    "# html = browser.html\n",
    "# soup = BeautifulSoup(html, 'html.parser')"
   ]
  },
  {
   "cell_type": "code",
   "execution_count": 8,
   "metadata": {},
   "outputs": [],
   "source": [
    "# info_list = soup.find_all('p', class_ = 'cXenseParse')\n",
    "# for i in info_list:\n",
    "#     print(i.text)"
   ]
  },
  {
   "cell_type": "code",
   "execution_count": null,
   "metadata": {},
   "outputs": [],
   "source": []
  }
 ],
 "metadata": {
  "kernelspec": {
   "display_name": "webscrape",
   "language": "python",
   "name": "webscrape"
  },
  "language_info": {
   "codemirror_mode": {
    "name": "ipython",
    "version": 3
   },
   "file_extension": ".py",
   "mimetype": "text/x-python",
   "name": "python",
   "nbconvert_exporter": "python",
   "pygments_lexer": "ipython3",
   "version": "3.6.10"
  }
 },
 "nbformat": 4,
 "nbformat_minor": 4
}
