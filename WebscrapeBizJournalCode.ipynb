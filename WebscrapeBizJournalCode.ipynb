{
 "cells": [
  {
   "cell_type": "code",
   "execution_count": 79,
   "metadata": {},
   "outputs": [],
   "source": [
    "from splinter import Browser\n",
    "from bs4 import BeautifulSoup\n",
    "import re\n",
    "import time\n",
    "import requests\n",
    "from selenium import webdriver\n",
    "import time as t\n",
    "from pprint import pprint"
   ]
  },
  {
   "cell_type": "code",
   "execution_count": 80,
   "metadata": {},
   "outputs": [
    {
     "name": "stdout",
     "output_type": "stream",
     "text": [
      "/usr/local/bin/chromedriver\r\n"
     ]
    }
   ],
   "source": [
    "!which chromedriver"
   ]
  },
  {
   "cell_type": "code",
   "execution_count": 81,
   "metadata": {},
   "outputs": [],
   "source": [
    "executable_path = {'executable_path': '/usr/local/bin/chromedriver'}\n",
    "browser = Browser('chrome', **executable_path, headless=False)\n",
    "url = 'https://www.bizjournals.com/houston/potm?l=&time=&type=&ind=86'\n",
    "browser.visit(url)"
   ]
  },
  {
   "cell_type": "code",
   "execution_count": 82,
   "metadata": {
    "scrolled": false
   },
   "outputs": [],
   "source": [
    "html = browser.html\n",
    "soup = BeautifulSoup(html, 'html.parser')"
   ]
  },
  {
   "cell_type": "code",
   "execution_count": 83,
   "metadata": {},
   "outputs": [
    {
     "name": "stdout",
     "output_type": "stream",
     "text": [
      "/houston/potmsearch/detail/submission/6487947/Michael_Hamilton?l=&time=&ind=86&type=&ro=0\n",
      "/houston/potmsearch/detail/submission/6486774/Jonathan_Newton?l=&time=&ind=86&type=&ro=1\n",
      "/houston/potmsearch/detail/submission/6485908/John_Farrell?l=&time=&ind=86&type=&ro=2\n",
      "/houston/potmsearch/detail/submission/6485383/Connie_Pfeiffer?l=&time=&ind=86&type=&ro=3\n",
      "/houston/potmsearch/detail/submission/6484831/Kathlyn_Hufstetler?l=&time=&ind=86&type=&ro=4\n",
      "/houston/potmsearch/detail/submission/6484791/Sammy_Ford_IV?l=&time=&ind=86&type=&ro=5\n",
      "/houston/potmsearch/detail/submission/6483205/Colleen_Migl?l=&time=&ind=86&type=&ro=6\n",
      "/houston/potmsearch/detail/submission/6482879/Brooks_Tueting?l=&time=&ind=86&type=&ro=7\n",
      "/houston/potmsearch/detail/submission/6482828/Edward_Ed_L_Ripley?l=&time=&ind=86&type=&ro=8\n",
      "/houston/potmsearch/detail/submission/6482625/Stephanie_McGraw?l=&time=&ind=86&type=&ro=9\n",
      "/houston/potmsearch/detail/submission/6482630/Ben_Walther?l=&time=&ind=86&type=&ro=10\n",
      "/houston/potmsearch/detail/submission/6482352/Michael_L_Telford?l=&time=&ind=86&type=&ro=11\n",
      "/houston/potmsearch/detail/submission/6482266/Elizabeth_Liz_Webb?l=&time=&ind=86&type=&ro=12\n",
      "/houston/potmsearch/detail/submission/6482268/Caroline_C_Pace?l=&time=&ind=86&type=&ro=13\n",
      "/houston/potmsearch/detail/submission/6482275/Keith_A_Taylor?l=&time=&ind=86&type=&ro=14\n",
      "/houston/potmsearch/detail/submission/6482271/Gabriela_Gabby_M_Barake?l=&time=&ind=86&type=&ro=15\n",
      "/houston/potmsearch/detail/submission/6482188/Stephen_Jacobson?l=&time=&ind=86&type=&ro=16\n",
      "/houston/potmsearch/detail/submission/6481763/Justo_Mendez?l=&time=&ind=86&type=&ro=17\n",
      "/houston/potmsearch/detail/submission/6481762/Samuel_Louis?l=&time=&ind=86&type=&ro=18\n",
      "/houston/potmsearch/detail/submission/6481506/S_Priya_Coffey?l=&time=&ind=86&type=&ro=19\n"
     ]
    }
   ],
   "source": [
    "links = []\n",
    "\n",
    "for link in soup.find_all(\"a\", class_=\"item\", href=True):\n",
    "    links.append(link.get('href'))\n",
    "\n",
    "\n",
    "for i in links:\n",
    "    if '/houston/potmsearch/detail/submission' in i:\n",
    "        print(i)\n",
    "    else:\n",
    "        pass"
   ]
  },
  {
   "cell_type": "code",
   "execution_count": null,
   "metadata": {},
   "outputs": [],
   "source": []
  }
 ],
 "metadata": {
  "kernelspec": {
   "display_name": "webscrape",
   "language": "python",
   "name": "webscrape"
  },
  "language_info": {
   "codemirror_mode": {
    "name": "ipython",
    "version": 3
   },
   "file_extension": ".py",
   "mimetype": "text/x-python",
   "name": "python",
   "nbconvert_exporter": "python",
   "pygments_lexer": "ipython3",
   "version": "3.6.10"
  }
 },
 "nbformat": 4,
 "nbformat_minor": 4
}
