{
 "cells": [
  {
   "cell_type": "code",
   "execution_count": 79,
   "metadata": {},
   "outputs": [],
   "source": [
    "from splinter import Browser\n",
    "from bs4 import BeautifulSoup\n",
    "import re\n",
    "import time\n",
    "import requests\n",
    "from selenium import webdriver\n",
    "import time as t\n",
    "from pprint import pprint"
   ]
  },
  {
   "cell_type": "code",
   "execution_count": 80,
   "metadata": {},
   "outputs": [
    {
     "name": "stdout",
     "output_type": "stream",
     "text": [
      "/usr/local/bin/chromedriver\r\n"
     ]
    }
   ],
   "source": [
    "!which chromedriver"
   ]
  },
  {
   "cell_type": "code",
   "execution_count": 102,
   "metadata": {},
   "outputs": [],
   "source": [
    "executable_path = {'executable_path': '/usr/local/bin/chromedriver'}\n",
    "browser = Browser('chrome', **executable_path, headless=False)\n",
    "url = 'https://www.bizjournals.com/houston/potm?l=&time=&type=&ind=86'\n",
    "browser.visit(url)"
   ]
  },
  {
   "cell_type": "code",
   "execution_count": 103,
   "metadata": {
    "scrolled": false
   },
   "outputs": [],
   "source": [
    "html = browser.html\n",
    "soup = BeautifulSoup(html, 'html.parser')"
   ]
  },
  {
   "cell_type": "code",
   "execution_count": 136,
   "metadata": {},
   "outputs": [
    {
     "name": "stdout",
     "output_type": "stream",
     "text": [
      "[{'Name': 'Michael Hamilton', 'Link': 'https://www.bizjournals.com//houston/potmsearch/detail/submission/6487947/Michael_Hamilton?l=&time=&ind=86&type=&ro=0'}, {'Name': 'Jonathan Newton', 'Link': 'https://www.bizjournals.com//houston/potmsearch/detail/submission/6486774/Jonathan_Newton?l=&time=&ind=86&type=&ro=1'}, {'Name': 'John Farrell', 'Link': 'https://www.bizjournals.com//houston/potmsearch/detail/submission/6485908/John_Farrell?l=&time=&ind=86&type=&ro=2'}, {'Name': 'Connie Pfeiffer', 'Link': 'https://www.bizjournals.com//houston/potmsearch/detail/submission/6485383/Connie_Pfeiffer?l=&time=&ind=86&type=&ro=3'}, {'Name': 'Kathlyn Hufstetler', 'Link': 'https://www.bizjournals.com//houston/potmsearch/detail/submission/6484831/Kathlyn_Hufstetler?l=&time=&ind=86&type=&ro=4'}, {'Name': 'Sammy Ford IV', 'Link': 'https://www.bizjournals.com//houston/potmsearch/detail/submission/6484791/Sammy_Ford_IV?l=&time=&ind=86&type=&ro=5'}, {'Name': 'Colleen Migl', 'Link': 'https://www.bizjournals.com//houston/potmsearch/detail/submission/6483205/Colleen_Migl?l=&time=&ind=86&type=&ro=6'}, {'Name': 'Brooks Tueting', 'Link': 'https://www.bizjournals.com//houston/potmsearch/detail/submission/6482879/Brooks_Tueting?l=&time=&ind=86&type=&ro=7'}, {'Name': 'Edward Ed L Ripley', 'Link': 'https://www.bizjournals.com//houston/potmsearch/detail/submission/6482828/Edward_Ed_L_Ripley?l=&time=&ind=86&type=&ro=8'}, {'Name': 'Stephanie McGraw', 'Link': 'https://www.bizjournals.com//houston/potmsearch/detail/submission/6482625/Stephanie_McGraw?l=&time=&ind=86&type=&ro=9'}, {'Name': 'Ben Walther', 'Link': 'https://www.bizjournals.com//houston/potmsearch/detail/submission/6482630/Ben_Walther?l=&time=&ind=86&type=&ro=10'}, {'Name': 'Michael L Telford', 'Link': 'https://www.bizjournals.com//houston/potmsearch/detail/submission/6482352/Michael_L_Telford?l=&time=&ind=86&type=&ro=11'}, {'Name': 'Elizabeth Liz Webb', 'Link': 'https://www.bizjournals.com//houston/potmsearch/detail/submission/6482266/Elizabeth_Liz_Webb?l=&time=&ind=86&type=&ro=12'}, {'Name': 'Caroline C Pace', 'Link': 'https://www.bizjournals.com//houston/potmsearch/detail/submission/6482268/Caroline_C_Pace?l=&time=&ind=86&type=&ro=13'}, {'Name': 'Keith A Taylor', 'Link': 'https://www.bizjournals.com//houston/potmsearch/detail/submission/6482275/Keith_A_Taylor?l=&time=&ind=86&type=&ro=14'}, {'Name': 'Gabriela Gabby M Barake', 'Link': 'https://www.bizjournals.com//houston/potmsearch/detail/submission/6482271/Gabriela_Gabby_M_Barake?l=&time=&ind=86&type=&ro=15'}, {'Name': 'Stephen Jacobson', 'Link': 'https://www.bizjournals.com//houston/potmsearch/detail/submission/6482188/Stephen_Jacobson?l=&time=&ind=86&type=&ro=16'}, {'Name': 'Justo Mendez', 'Link': 'https://www.bizjournals.com//houston/potmsearch/detail/submission/6481763/Justo_Mendez?l=&time=&ind=86&type=&ro=17'}, {'Name': 'Samuel Louis', 'Link': 'https://www.bizjournals.com//houston/potmsearch/detail/submission/6481762/Samuel_Louis?l=&time=&ind=86&type=&ro=18'}, {'Name': 'S Priya Coffey', 'Link': 'https://www.bizjournals.com//houston/potmsearch/detail/submission/6481506/S_Priya_Coffey?l=&time=&ind=86&type=&ro=19'}]\n"
     ]
    }
   ],
   "source": [
    "links = []\n",
    "\n",
    "for link in soup.find_all(\"a\", class_=\"item\", href=True):\n",
    "    links.append(link.get('href'))\n",
    "\n",
    "dict_list =[]\n",
    "for i in links:\n",
    "    if '/houston/potmsearch/detail/submission' in i:\n",
    "        d = {}\n",
    "        link = \"https://www.bizjournals.com/\" + i\n",
    "#         print(link)\n",
    "        newI = i.split(\"?\")\n",
    "        slicefront = (newI[0])\n",
    "        name = slicefront[46:]\n",
    "        final_name = name.replace('_', \" \")\n",
    "        d[\"Name\"] = final_name\n",
    "        d[\"Link\"] = link\n",
    "        dict_list.append(d)\n",
    "    else:\n",
    "        pass\n",
    "print(dict_list)"
   ]
  },
  {
   "cell_type": "code",
   "execution_count": 145,
   "metadata": {},
   "outputs": [
    {
     "ename": "KeyError",
     "evalue": "'https://www.bizjournals.com//houston/potmsearch/detail/submission/6481506/S_Priya_Coffey?l=&time=&ind=86&type=&ro=19'",
     "output_type": "error",
     "traceback": [
      "\u001b[0;31m---------------------------------------------------------------------------\u001b[0m",
      "\u001b[0;31mKeyError\u001b[0m                                  Traceback (most recent call last)",
      "\u001b[0;32m<ipython-input-145-fe74d2369695>\u001b[0m in \u001b[0;36m<module>\u001b[0;34m\u001b[0m\n\u001b[1;32m      1\u001b[0m \u001b[0;32mfor\u001b[0m \u001b[0mi\u001b[0m \u001b[0;32min\u001b[0m \u001b[0mdict_list\u001b[0m\u001b[0;34m:\u001b[0m\u001b[0;34m\u001b[0m\u001b[0;34m\u001b[0m\u001b[0m\n\u001b[0;32m----> 2\u001b[0;31m     \u001b[0mbrowser\u001b[0m\u001b[0;34m.\u001b[0m\u001b[0mvisit\u001b[0m\u001b[0;34m(\u001b[0m\u001b[0mi\u001b[0m\u001b[0;34m[\u001b[0m\u001b[0mlink\u001b[0m\u001b[0;34m]\u001b[0m\u001b[0;34m)\u001b[0m\u001b[0;34m\u001b[0m\u001b[0;34m\u001b[0m\u001b[0m\n\u001b[0m\u001b[1;32m      3\u001b[0m     \u001b[0msleep\u001b[0m\u001b[0;34m(\u001b[0m\u001b[0;36m5\u001b[0m\u001b[0;34m)\u001b[0m\u001b[0;34m\u001b[0m\u001b[0;34m\u001b[0m\u001b[0m\n\u001b[1;32m      4\u001b[0m \u001b[0;31m#     html = browser.html\u001b[0m\u001b[0;34m\u001b[0m\u001b[0;34m\u001b[0m\u001b[0;34m\u001b[0m\u001b[0m\n\u001b[1;32m      5\u001b[0m \u001b[0;31m#     soup = BeautifulSoup(html, 'html.parser')\u001b[0m\u001b[0;34m\u001b[0m\u001b[0;34m\u001b[0m\u001b[0;34m\u001b[0m\u001b[0m\n",
      "\u001b[0;31mKeyError\u001b[0m: 'https://www.bizjournals.com//houston/potmsearch/detail/submission/6481506/S_Priya_Coffey?l=&time=&ind=86&type=&ro=19'"
     ]
    }
   ],
   "source": [
    "for i in dict_list:\n",
    "    browser.visit(i[link])\n",
    "    sleep(5)\n",
    "#     html = browser.html\n",
    "#     soup = BeautifulSoup(html, 'html.parser')\n",
    "#     print(type(i[\"Link\"]))\n",
    "    "
   ]
  },
  {
   "cell_type": "code",
   "execution_count": 97,
   "metadata": {},
   "outputs": [
    {
     "data": {
      "text/plain": [
       "{'HBJ_link_/houston/potmsearch/detail/submission/6486774/Jonathan_Newton?time=most_recent&ind=86&type=all&id=&ro=1': '/houston/potmsearch/detail/submission/6486774/Jonathan_Newton?time=most_recent&ind=86&type=all&id=&ro=1'}"
      ]
     },
     "execution_count": 97,
     "metadata": {},
     "output_type": "execute_result"
    }
   ],
   "source": [
    "Contact_dict"
   ]
  },
  {
   "cell_type": "code",
   "execution_count": 86,
   "metadata": {},
   "outputs": [],
   "source": [
    "browser.visit(\"https://www.bizjournals.com/houston/potmsearch/detail/submission/6487947/Michael_Hamilton?l=&time=&ind=86&type=&ro=0\")\n",
    "html = browser.html\n",
    "soup = BeautifulSoup(html, 'html.parser')"
   ]
  },
  {
   "cell_type": "code",
   "execution_count": 92,
   "metadata": {},
   "outputs": [
    {
     "name": "stdout",
     "output_type": "stream",
     "text": [
      "Partner at King & Spalding LLP\n",
      "Michael Hamilton represents public and private companies in a broad range of corporate and transactional matters, including capital markets transactions, U.S. Securities and Exchange Commission reporting obligations, governance matters and mergers & acquisitions. Michael also represents borrowers and lenders in connection with domestic and cross border commercial loan, asset based and subordinated loan facilities.\n"
     ]
    }
   ],
   "source": [
    "info_list = soup.find_all('p', class_ = 'cXenseParse')\n",
    "for i in info_list:\n",
    "    print(i.text)"
   ]
  },
  {
   "cell_type": "code",
   "execution_count": null,
   "metadata": {},
   "outputs": [],
   "source": []
  }
 ],
 "metadata": {
  "kernelspec": {
   "display_name": "webscrape",
   "language": "python",
   "name": "webscrape"
  },
  "language_info": {
   "codemirror_mode": {
    "name": "ipython",
    "version": 3
   },
   "file_extension": ".py",
   "mimetype": "text/x-python",
   "name": "python",
   "nbconvert_exporter": "python",
   "pygments_lexer": "ipython3",
   "version": "3.6.10"
  }
 },
 "nbformat": 4,
 "nbformat_minor": 4
}
